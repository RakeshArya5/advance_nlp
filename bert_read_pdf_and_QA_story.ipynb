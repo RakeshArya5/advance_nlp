{
  "nbformat": 4,
  "nbformat_minor": 0,
  "metadata": {
    "colab": {
      "name": "bert - read pdf and QA - story",
      "provenance": []
    },
    "kernelspec": {
      "name": "python3",
      "display_name": "Python 3"
    },
    "language_info": {
      "name": "python"
    }
  },
  "cells": [
    {
      "cell_type": "code",
      "metadata": {
        "colab": {
          "base_uri": "https://localhost:8080/",
          "height": 1000
        },
        "id": "plAuo4LDGG3V",
        "outputId": "a29f59b2-da58-415c-89df-c45c76fa44ae"
      },
      "source": [
        "!pip install cdqa"
      ],
      "execution_count": null,
      "outputs": [
        {
          "output_type": "stream",
          "text": [
            "Collecting cdqa\n",
            "\u001b[?25l  Downloading https://files.pythonhosted.org/packages/39/f5/af831b7ee653aa6bace99e39ec6b2754b1adb10bb60a1296f5e16f1f24ee/cdqa-1.3.9.tar.gz (45kB)\n",
            "\u001b[K     |████████████████████████████████| 51kB 5.5MB/s \n",
            "\u001b[?25hCollecting Flask==1.1.1\n",
            "\u001b[?25l  Downloading https://files.pythonhosted.org/packages/9b/93/628509b8d5dc749656a9641f4caf13540e2cdec85276964ff8f43bbb1d3b/Flask-1.1.1-py2.py3-none-any.whl (94kB)\n",
            "\u001b[K     |████████████████████████████████| 102kB 9.2MB/s \n",
            "\u001b[?25hCollecting flask_cors==3.0.8\n",
            "  Downloading https://files.pythonhosted.org/packages/78/38/e68b11daa5d613e3a91e4bf3da76c94ac9ee0d9cd515af9c1ab80d36f709/Flask_Cors-3.0.8-py2.py3-none-any.whl\n",
            "Collecting joblib==0.13.2\n",
            "\u001b[?25l  Downloading https://files.pythonhosted.org/packages/cd/c1/50a758e8247561e58cb87305b1e90b171b8c767b15b12a1734001f41d356/joblib-0.13.2-py2.py3-none-any.whl (278kB)\n",
            "\u001b[K     |████████████████████████████████| 286kB 29.9MB/s \n",
            "\u001b[?25hCollecting pandas==0.25.0\n",
            "\u001b[?25l  Downloading https://files.pythonhosted.org/packages/3b/42/dc1f4820b95fbdbc9352ec9ad0f0c40db2122e1f2440ea53c7f9fbccf2b8/pandas-0.25.0-cp37-cp37m-manylinux1_x86_64.whl (10.4MB)\n",
            "\u001b[K     |████████████████████████████████| 10.4MB 38.2MB/s \n",
            "\u001b[?25hCollecting prettytable==0.7.2\n",
            "  Downloading https://files.pythonhosted.org/packages/ef/30/4b0746848746ed5941f052479e7c23d2b56d174b82f4fd34a25e389831f5/prettytable-0.7.2.tar.bz2\n",
            "Collecting transformers==2.1.1\n",
            "\u001b[?25l  Downloading https://files.pythonhosted.org/packages/fd/f9/51824e40f0a23a49eab4fcaa45c1c797cbf9761adedd0b558dab7c958b34/transformers-2.1.1-py3-none-any.whl (311kB)\n",
            "\u001b[K     |████████████████████████████████| 317kB 40.1MB/s \n",
            "\u001b[?25hCollecting scikit_learn==0.21.2\n",
            "\u001b[?25l  Downloading https://files.pythonhosted.org/packages/21/a4/a48bd4b0d15395362b561df7e7247de87291105eb736a3b2aaffebf437b9/scikit_learn-0.21.2-cp37-cp37m-manylinux1_x86_64.whl (6.7MB)\n",
            "\u001b[K     |████████████████████████████████| 6.7MB 31.6MB/s \n",
            "\u001b[?25hCollecting tika==1.19\n",
            "  Downloading https://files.pythonhosted.org/packages/10/75/b566e446ffcf292f10c8d84c15a3d91615fe3d7ca8072a17c949d4e84b66/tika-1.19.tar.gz\n",
            "Collecting torch==1.2.0\n",
            "\u001b[?25l  Downloading https://files.pythonhosted.org/packages/05/65/5248be50c55ab7429dd5c11f5e2f9f5865606b80e854ca63139ad1a584f2/torch-1.2.0-cp37-cp37m-manylinux1_x86_64.whl (748.9MB)\n",
            "\u001b[K     |████████████████████████████████| 748.9MB 22kB/s \n",
            "\u001b[?25hCollecting markdown==3.1.1\n",
            "\u001b[?25l  Downloading https://files.pythonhosted.org/packages/c0/4e/fd492e91abdc2d2fcb70ef453064d980688762079397f779758e055f6575/Markdown-3.1.1-py2.py3-none-any.whl (87kB)\n",
            "\u001b[K     |████████████████████████████████| 92kB 9.4MB/s \n",
            "\u001b[?25hCollecting tqdm==4.32.2\n",
            "\u001b[?25l  Downloading https://files.pythonhosted.org/packages/9f/3d/7a6b68b631d2ab54975f3a4863f3c4e9b26445353264ef01f465dc9b0208/tqdm-4.32.2-py2.py3-none-any.whl (50kB)\n",
            "\u001b[K     |████████████████████████████████| 51kB 5.9MB/s \n",
            "\u001b[?25hCollecting wget==3.2\n",
            "  Downloading https://files.pythonhosted.org/packages/47/6a/62e288da7bcda82b935ff0c6cfe542970f04e29c756b0e147251b2fb251f/wget-3.2.zip\n",
            "Requirement already satisfied: click>=5.1 in /usr/local/lib/python3.7/dist-packages (from Flask==1.1.1->cdqa) (7.1.2)\n",
            "Requirement already satisfied: Jinja2>=2.10.1 in /usr/local/lib/python3.7/dist-packages (from Flask==1.1.1->cdqa) (2.11.3)\n",
            "Requirement already satisfied: Werkzeug>=0.15 in /usr/local/lib/python3.7/dist-packages (from Flask==1.1.1->cdqa) (1.0.1)\n",
            "Requirement already satisfied: itsdangerous>=0.24 in /usr/local/lib/python3.7/dist-packages (from Flask==1.1.1->cdqa) (1.1.0)\n",
            "Requirement already satisfied: Six in /usr/local/lib/python3.7/dist-packages (from flask_cors==3.0.8->cdqa) (1.15.0)\n",
            "Requirement already satisfied: pytz>=2017.2 in /usr/local/lib/python3.7/dist-packages (from pandas==0.25.0->cdqa) (2018.9)\n",
            "Requirement already satisfied: numpy>=1.13.3 in /usr/local/lib/python3.7/dist-packages (from pandas==0.25.0->cdqa) (1.19.5)\n",
            "Requirement already satisfied: python-dateutil>=2.6.1 in /usr/local/lib/python3.7/dist-packages (from pandas==0.25.0->cdqa) (2.8.1)\n",
            "Collecting sentencepiece\n",
            "\u001b[?25l  Downloading https://files.pythonhosted.org/packages/f5/99/e0808cb947ba10f575839c43e8fafc9cc44e4a7a2c8f79c60db48220a577/sentencepiece-0.1.95-cp37-cp37m-manylinux2014_x86_64.whl (1.2MB)\n",
            "\u001b[K     |████████████████████████████████| 1.2MB 38.8MB/s \n",
            "\u001b[?25hCollecting sacremoses\n",
            "\u001b[?25l  Downloading https://files.pythonhosted.org/packages/75/ee/67241dc87f266093c533a2d4d3d69438e57d7a90abb216fa076e7d475d4a/sacremoses-0.0.45-py3-none-any.whl (895kB)\n",
            "\u001b[K     |████████████████████████████████| 901kB 37.8MB/s \n",
            "\u001b[?25hCollecting boto3\n",
            "\u001b[?25l  Downloading https://files.pythonhosted.org/packages/11/20/4294e37c3c6936c905f1e9da958c776d7fee54a4512bdb7706d69c8720e6/boto3-1.17.84-py2.py3-none-any.whl (131kB)\n",
            "\u001b[K     |████████████████████████████████| 133kB 46.5MB/s \n",
            "\u001b[?25hRequirement already satisfied: requests in /usr/local/lib/python3.7/dist-packages (from transformers==2.1.1->cdqa) (2.23.0)\n",
            "Requirement already satisfied: regex in /usr/local/lib/python3.7/dist-packages (from transformers==2.1.1->cdqa) (2019.12.20)\n",
            "Requirement already satisfied: scipy>=0.17.0 in /usr/local/lib/python3.7/dist-packages (from scikit_learn==0.21.2->cdqa) (1.4.1)\n",
            "Requirement already satisfied: setuptools in /usr/local/lib/python3.7/dist-packages (from tika==1.19->cdqa) (56.1.0)\n",
            "Requirement already satisfied: MarkupSafe>=0.23 in /usr/local/lib/python3.7/dist-packages (from Jinja2>=2.10.1->Flask==1.1.1->cdqa) (2.0.1)\n",
            "Collecting botocore<1.21.0,>=1.20.84\n",
            "\u001b[?25l  Downloading https://files.pythonhosted.org/packages/bc/22/72c81d754bbcb128cba2ad88670c3c320e4594e6ddd8cca6512c3967108c/botocore-1.20.84-py2.py3-none-any.whl (7.6MB)\n",
            "\u001b[K     |████████████████████████████████| 7.6MB 39.7MB/s \n",
            "\u001b[?25hCollecting s3transfer<0.5.0,>=0.4.0\n",
            "\u001b[?25l  Downloading https://files.pythonhosted.org/packages/63/d0/693477c688348654ddc21dcdce0817653a294aa43f41771084c25e7ff9c7/s3transfer-0.4.2-py2.py3-none-any.whl (79kB)\n",
            "\u001b[K     |████████████████████████████████| 81kB 8.4MB/s \n",
            "\u001b[?25hCollecting jmespath<1.0.0,>=0.7.1\n",
            "  Downloading https://files.pythonhosted.org/packages/07/cb/5f001272b6faeb23c1c9e0acc04d48eaaf5c862c17709d20e3469c6e0139/jmespath-0.10.0-py2.py3-none-any.whl\n",
            "Requirement already satisfied: certifi>=2017.4.17 in /usr/local/lib/python3.7/dist-packages (from requests->transformers==2.1.1->cdqa) (2020.12.5)\n",
            "Requirement already satisfied: chardet<4,>=3.0.2 in /usr/local/lib/python3.7/dist-packages (from requests->transformers==2.1.1->cdqa) (3.0.4)\n",
            "Requirement already satisfied: idna<3,>=2.5 in /usr/local/lib/python3.7/dist-packages (from requests->transformers==2.1.1->cdqa) (2.10)\n",
            "Requirement already satisfied: urllib3!=1.25.0,!=1.25.1,<1.26,>=1.21.1 in /usr/local/lib/python3.7/dist-packages (from requests->transformers==2.1.1->cdqa) (1.24.3)\n",
            "Building wheels for collected packages: cdqa, prettytable, tika, wget\n",
            "  Building wheel for cdqa (setup.py) ... \u001b[?25l\u001b[?25hdone\n",
            "  Created wheel for cdqa: filename=cdqa-1.3.9-cp37-none-any.whl size=47640 sha256=e7048484abd6e96bd5010fa231790f8806a5272cec8504ea50e86e609d3218a7\n",
            "  Stored in directory: /root/.cache/pip/wheels/8b/9a/68/d3f7651ea29c30d1bebc9e946bf5a8cf922e1c86fb6b8a33d9\n",
            "  Building wheel for prettytable (setup.py) ... \u001b[?25l\u001b[?25hdone\n",
            "  Created wheel for prettytable: filename=prettytable-0.7.2-cp37-none-any.whl size=13700 sha256=f4df73d15dfbca80d713dbddbee4037d5c3972eca1d9b8b091d024cccbe88f88\n",
            "  Stored in directory: /root/.cache/pip/wheels/80/34/1c/3967380d9676d162cb59513bd9dc862d0584e045a162095606\n",
            "  Building wheel for tika (setup.py) ... \u001b[?25l\u001b[?25hdone\n",
            "  Created wheel for tika: filename=tika-1.19-cp37-none-any.whl size=29224 sha256=7d598092468063060332c8a128ce0157dcb1a58acb926c2db9653fa6310f2bf1\n",
            "  Stored in directory: /root/.cache/pip/wheels/b4/db/8a/3a3f0c0725448eaa92703e3dda71e29dc13a119ff6c1036848\n",
            "  Building wheel for wget (setup.py) ... \u001b[?25l\u001b[?25hdone\n",
            "  Created wheel for wget: filename=wget-3.2-cp37-none-any.whl size=9681 sha256=498374aaf205df2300c03d038a8ac556c7ef44c14f9b831ab3bd391f9d0c1381\n",
            "  Stored in directory: /root/.cache/pip/wheels/40/15/30/7d8f7cea2902b4db79e3fea550d7d7b85ecb27ef992b618f3f\n",
            "Successfully built cdqa prettytable tika wget\n",
            "\u001b[31mERROR: xarray 0.18.2 has requirement pandas>=1.0, but you'll have pandas 0.25.0 which is incompatible.\u001b[0m\n",
            "\u001b[31mERROR: torchvision 0.9.1+cu101 has requirement torch==1.8.1, but you'll have torch 1.2.0 which is incompatible.\u001b[0m\n",
            "\u001b[31mERROR: torchtext 0.9.1 has requirement torch==1.8.1, but you'll have torch 1.2.0 which is incompatible.\u001b[0m\n",
            "\u001b[31mERROR: spacy 2.2.4 has requirement tqdm<5.0.0,>=4.38.0, but you'll have tqdm 4.32.2 which is incompatible.\u001b[0m\n",
            "\u001b[31mERROR: librosa 0.8.0 has requirement joblib>=0.14, but you'll have joblib 0.13.2 which is incompatible.\u001b[0m\n",
            "\u001b[31mERROR: google-colab 1.0.0 has requirement pandas~=1.1.0; python_version >= \"3.0\", but you'll have pandas 0.25.0 which is incompatible.\u001b[0m\n",
            "\u001b[31mERROR: fbprophet 0.7.1 has requirement pandas>=1.0.4, but you'll have pandas 0.25.0 which is incompatible.\u001b[0m\n",
            "\u001b[31mERROR: fbprophet 0.7.1 has requirement tqdm>=4.36.1, but you'll have tqdm 4.32.2 which is incompatible.\u001b[0m\n",
            "\u001b[31mERROR: botocore 1.20.84 has requirement urllib3<1.27,>=1.25.4, but you'll have urllib3 1.24.3 which is incompatible.\u001b[0m\n",
            "Installing collected packages: Flask, flask-cors, joblib, pandas, prettytable, sentencepiece, tqdm, sacremoses, jmespath, botocore, s3transfer, boto3, transformers, scikit-learn, tika, torch, markdown, wget, cdqa\n",
            "  Found existing installation: Flask 1.1.4\n",
            "    Uninstalling Flask-1.1.4:\n",
            "      Successfully uninstalled Flask-1.1.4\n",
            "  Found existing installation: joblib 1.0.1\n",
            "    Uninstalling joblib-1.0.1:\n",
            "      Successfully uninstalled joblib-1.0.1\n",
            "  Found existing installation: pandas 1.1.5\n",
            "    Uninstalling pandas-1.1.5:\n",
            "      Successfully uninstalled pandas-1.1.5\n",
            "  Found existing installation: prettytable 2.1.0\n",
            "    Uninstalling prettytable-2.1.0:\n",
            "      Successfully uninstalled prettytable-2.1.0\n",
            "  Found existing installation: tqdm 4.41.1\n",
            "    Uninstalling tqdm-4.41.1:\n",
            "      Successfully uninstalled tqdm-4.41.1\n",
            "  Found existing installation: scikit-learn 0.22.2.post1\n",
            "    Uninstalling scikit-learn-0.22.2.post1:\n",
            "      Successfully uninstalled scikit-learn-0.22.2.post1\n",
            "  Found existing installation: torch 1.8.1+cu101\n",
            "    Uninstalling torch-1.8.1+cu101:\n",
            "      Successfully uninstalled torch-1.8.1+cu101\n",
            "  Found existing installation: Markdown 3.3.4\n",
            "    Uninstalling Markdown-3.3.4:\n",
            "      Successfully uninstalled Markdown-3.3.4\n",
            "Successfully installed Flask-1.1.1 boto3-1.17.84 botocore-1.20.84 cdqa-1.3.9 flask-cors-3.0.8 jmespath-0.10.0 joblib-0.13.2 markdown-3.1.1 pandas-0.25.0 prettytable-0.7.2 s3transfer-0.4.2 sacremoses-0.0.45 scikit-learn-0.21.2 sentencepiece-0.1.95 tika-1.19 torch-1.2.0 tqdm-4.32.2 transformers-2.1.1 wget-3.2\n"
          ],
          "name": "stdout"
        },
        {
          "output_type": "display_data",
          "data": {
            "application/vnd.colab-display-data+json": {
              "pip_warning": {
                "packages": [
                  "pandas"
                ]
              }
            }
          },
          "metadata": {
            "tags": []
          }
        }
      ]
    },
    {
      "cell_type": "code",
      "metadata": {
        "colab": {
          "base_uri": "https://localhost:8080/"
        },
        "id": "OUUqQXOHGLS-",
        "outputId": "b71fcd9f-a25d-45d4-ca19-2c209ccaeb74"
      },
      "source": [
        "import os \n",
        "import pandas as pd\n",
        "from ast import literal_eval\n",
        "\n",
        "from cdqa.utils.converters import pdf_converter\n",
        "from cdqa.utils.download import download_model\n",
        "from cdqa.pipeline import QAPipeline"
      ],
      "execution_count": null,
      "outputs": [
        {
          "output_type": "stream",
          "text": [
            "/usr/local/lib/python3.7/dist-packages/tqdm/autonotebook/__init__.py:18: TqdmExperimentalWarning: Using `tqdm.autonotebook.tqdm` in notebook mode. Use `tqdm.tqdm` instead to force console mode (e.g. in jupyter console)\n",
            "  \" (e.g. in jupyter console)\", TqdmExperimentalWarning)\n"
          ],
          "name": "stderr"
        }
      ]
    },
    {
      "cell_type": "code",
      "metadata": {
        "colab": {
          "base_uri": "https://localhost:8080/"
        },
        "id": "Zr4wPrsIGwVv",
        "outputId": "d89c2d0f-1c1f-4fce-b74d-b0da9adeb28c"
      },
      "source": [
        "download_model(model='bert-squad_1.1', dir='./models')"
      ],
      "execution_count": null,
      "outputs": [
        {
          "output_type": "stream",
          "text": [
            "\n",
            "Downloading trained model...\n"
          ],
          "name": "stdout"
        }
      ]
    },
    {
      "cell_type": "code",
      "metadata": {
        "colab": {
          "base_uri": "https://localhost:8080/"
        },
        "id": "uXEbVS6mHL96",
        "outputId": "63bb23f9-0783-4449-e687-f4f8f874dd66"
      },
      "source": [
        "!mkdir docs"
      ],
      "execution_count": null,
      "outputs": [
        {
          "output_type": "stream",
          "text": [
            "mkdir: cannot create directory ‘docs’: File exists\n"
          ],
          "name": "stdout"
        }
      ]
    },
    {
      "cell_type": "code",
      "metadata": {
        "id": "_0vfkcsjQBST"
      },
      "source": [
        "!mkdir docs1"
      ],
      "execution_count": null,
      "outputs": []
    },
    {
      "cell_type": "code",
      "metadata": {
        "colab": {
          "base_uri": "https://localhost:8080/"
        },
        "id": "7q0s2HLWHRoB",
        "outputId": "57e5aaec-347c-4a70-9313-de9913481643"
      },
      "source": [
        "!wget -P ./docs1/ http://www.primaryresources.co.uk/english/pdfs/6aesops.pdf"
      ],
      "execution_count": null,
      "outputs": [
        {
          "output_type": "stream",
          "text": [
            "--2021-05-31 16:27:19--  http://www.primaryresources.co.uk/english/pdfs/6aesops.pdf\n",
            "Resolving www.primaryresources.co.uk (www.primaryresources.co.uk)... 194.154.20.19\n",
            "Connecting to www.primaryresources.co.uk (www.primaryresources.co.uk)|194.154.20.19|:80... connected.\n",
            "HTTP request sent, awaiting response... 200 OK\n",
            "Length: 226172 (221K) [application/pdf]\n",
            "Saving to: ‘./docs1/6aesops.pdf’\n",
            "\n",
            "6aesops.pdf         100%[===================>] 220.87K   584KB/s    in 0.4s    \n",
            "\n",
            "2021-05-31 16:27:20 (584 KB/s) - ‘./docs1/6aesops.pdf’ saved [226172/226172]\n",
            "\n"
          ],
          "name": "stdout"
        }
      ]
    },
    {
      "cell_type": "code",
      "metadata": {
        "colab": {
          "base_uri": "https://localhost:8080/",
          "height": 749
        },
        "id": "Y1BA5DthMdyG",
        "outputId": "83c5b49e-7861-4045-ffd2-ed747c27103a"
      },
      "source": [
        "df = pdf_converter(directory_path='./docs1/')\n",
        "df.head()"
      ],
      "execution_count": null,
      "outputs": [
        {
          "output_type": "execute_result",
          "data": {
            "text/html": [
              "<div>\n",
              "<style scoped>\n",
              "    .dataframe tbody tr th:only-of-type {\n",
              "        vertical-align: middle;\n",
              "    }\n",
              "\n",
              "    .dataframe tbody tr th {\n",
              "        vertical-align: top;\n",
              "    }\n",
              "\n",
              "    .dataframe thead th {\n",
              "        text-align: right;\n",
              "    }\n",
              "</style>\n",
              "<table border=\"1\" class=\"dataframe\">\n",
              "  <thead>\n",
              "    <tr style=\"text-align: right;\">\n",
              "      <th></th>\n",
              "      <th>title</th>\n",
              "      <th>paragraphs</th>\n",
              "    </tr>\n",
              "  </thead>\n",
              "  <tbody>\n",
              "    <tr>\n",
              "      <th>0</th>\n",
              "      <td>6aesops</td>\n",
              "      <td>[Grasshopper.PDF, The Ant and the Grasshopper    , In a field one summer's day a Grasshopper was hopping about, chirping and singing to its heart's content.  An Ant passed by, bearing along with great toil an ear of corn he was taking to the nest.  “Why not come and chat with me,” said the Grasshopper, “instead of toiling and moiling in that way?”  “I am helping to lay up food for the winter,” said the Ant, “and recommend you to do the same.”  “Why bother about winter?” said the Grasshopper; “We have got plenty of food at present.”  But the Ant went on its way and continued its toil.  When the winter came the Grasshopper had no food and found itself dying of hunger, while it saw the ants distributing every day corn and grain from the stores they had collected in the summer.  Then the Grasshopper knew:   , It is best to prepare for the days of necessity.   , The Crab and Its Mother      , A CRAB said to her son, \"Why do you walk so one-sided, my child? It is far more becoming to go straight forward.\"  The young Crab replied:  \"Quite true, dear Mother; and if you will show me the straight way, I will promise to walk in it.\"  The Mother tried in vain, and submitted without remonstrance to the reproof of her child.   , Example is more powerful than precept.  , The Fox and the Grapes      , One hot summer's day a Fox was strolling through an orchard till he came to a bunch of Grapes just ripening on a vine which had been trained over a lofty branch.  \"Just the thing to quench my thirst,\" quoth he.  Drawing back a few paces, he took a run and a jump, and just missed the bunch.  Turning round again with a One, Two, Three, he jumped up, but with no greater success.  , Again and again he tried after the tempting morsel, but at last had to give it up, and walked away with his nose in the air, saying: \"I am sure they are sour.\"    , It is easy to despise what you cannot get. , The Hare and the Tortoise      , A HARE one day ridiculed the short feet and slow pace of the Tortoise, who replied, laughing:  \"Though you be swift as the wind, I will beat you in a race.\"  The Hare, believing her assertion to be simply impossible, assented to the proposal; and they agreed that the Fox should choose the course and fix the goal.  On the day appointed for the race the two started together.  The Tortoise never for a moment stopped, but went on with a slow but steady pace straight to the end of the course. The Hare, lying down by the wayside, fell fast asleep.  At last waking up, and moving as fast as he could, he saw the Tortoise had reached the goal, and was comfortably dozing after her fatigue.   , Slow but steady wins the race.  , The Jay and the Peacock      , A Jay venturing into a yard where Peacocks used to walk, found there a number of feathers which had fallen from the Peacocks when they were moulting.  He tied them all to his tail and strutted down towards the Peacocks.  When he came near them they soon discovered the cheat, and striding up to him pecked at him and plucked away his borrowed plumes.  So the Jay could do no better than go back to the other Jays, who had watched his behaviour from a distance; but they were equally annoyed with him, and told him:   \"It is not only fine feathers that make fine birds.\"  , The Lion and the Mouse    , Once when a Lion was asleep a little Mouse began running up and down upon him; this soon wakened the Lion, who placed his huge paw upon him, and opened his big jaws to swallow him.  \"Pardon, O King,\" cried the little Mouse: \"forgive me this time, I shall never forget it: who knows but what I may be able to do you a turn some of these days?\"  The Lion was so tickled at the idea of the Mouse being able to help him, that he lifted up his paw and let him go.  Some time after the Lion was caught in a trap, and the hunters who desired to carry him alive to the King, tied him to a tree while they went in search of a wagon to carry him on.  Just then the little Mouse happened to pass by, and seeing the sad plight in which the Lion was, went up to him and soon gnawed away the ropes that bound the King of the Beasts.  \"Was I not right?\" said the little Mouse.   , Little friends may prove great friends.  , The Milkmaid and Her Pail    , Patty the Milkmaid was going to market carrying her milk in a Pail on her head.  As she went along she began calculating what she would do with the money she would get for the milk.  \"I'll buy some fowls from Farmer Brown,\" said she, \"and they will lay eggs each morning, which I will sell to the parson's wife.  With the money that I get from the sale of these eggs I'll buy myself a new dimity frock and a chip hat; and when I go to market, won't all the young men come up and speak to me!  Polly Shaw will be that jealous; but I don't care.  I shall just look at her and toss my head like this.  As she spoke she tossed her head back, the Pail fell off it, and all the milk was spilt.  So she had to go home and tell her mother what had occurred.  \"Ah, my child,\" said the mother,   \"Do not count your chickens before they are hatched.\"  , The Monkey and the Dolphin     , A SAILOR, bound on a long voyage, took with him a Monkey to amuse him while on shipboard.  As he sailed off the coast of , Greece, a violent tempest arose in which the ship was wrecked and he, his Monkey, and all the crew were obliged to swim for their lives.  A Dolphin saw the Monkey contending with the waves, and supposing him to be a man (whom he is always said to befriend), came and placed himself under him, to convey him on his back in safety to the shore.  When the Dolphin arrived with his burden in sight of land not far from Athens, he asked the Monkey if he were an Athenian.  The latter replied that he was, and that he was descended from one of the most noble families in that city.  The , Dolphin then inquired if he knew the Piraeus (the famous harbour of Athens).  Supposing that a man was meant, the Monkey answered that he knew him very well and that he was an intimate friend.  The Dolphin, indignant at these falsehoods, dipped the , Monkey under the water and drowned him.  , Those who pretend to be what they are not, sooner or later, find themselves in deep water. , The Stag at the Pool      , A Stag overpowered by heat came to a spring to drink.  Seeing his own shadow reflected in the water, he greatly admired the size and variety of his horns, but felt angry with himself for having such slender and weak feet.  While he was thus contemplating himself, a Lion appeared at the pool and crouched to spring upon him.  The Stag immediately took to flight, and exerting his utmost speed, as long as the plain was smooth and open kept himself easily at a safe distance from the Lion.  But entering a wood he became entangled by his horns, and the Lion quickly came up to him and caught him.  When too late, he thus reproached himself:  \"Woe is me! How I have deceived myself! These feet which would have saved me I despised, and I gloried in these antlers which have proved my destruction.\"   , What is most truly valuable is often underrated.  , The Wolf and the Crane     , A Wolf had been gorging on an animal he had killed, when suddenly a small bone in the meat stuck in his throat and he could not swallow it.  He soon felt terrible pain in his throat, and ran up and down groaning and groaning and seeking for something to relieve the pain.  He tried to induce every one he met to remove the bone.  \"I would give anything,\" said he, \"if you would take it out.\"  At last the Crane agreed to try, and told the Wolf to lie on his side and open his jaws as wide as he could.  Then the Crane put its long neck down the Wolf's throat, and with its beak loosened the bone, till at last it got it out.  \"Will you kindly give me the reward you promised?\" said the , Crane.  , The Wolf grinned and showed his teeth and said: \"Be content. You have put your head inside a Wolf's mouth and taken it out again in safety; that ought to be reward enough for you.\"   , Gratitude and greed go not together.  , The Wolf in Sheep's Clothing    , A Wolf found great difficulty in getting at the sheep owing to the vigilance of the shepherd and his dogs.  But one day it found the skin of a sheep that had been flayed and thrown aside, so it put it on over its own pelt and strolled down among the sheep. , The Lamb that belonged to the sheep, whose skin the Wolf was wearing, began to follow the Wolf in the Sheep's clothing; so, leading the Lamb a little apart, he soon made a meal off her, and for some time he succeeded in deceiving the sheep, and enjoying hearty meals.   , Appearances are deceptive.]</td>\n",
              "    </tr>\n",
              "  </tbody>\n",
              "</table>\n",
              "</div>"
            ],
            "text/plain": [
              "     title                                                                                                                                                                                                                                                                                                                                                                                                                                                                                                                                                                                                                                                                                                                                                                                                                                                                                                                                                                                                                                                                                                                                                                                                                                                                                                                                                                                                                                                                                                                                                                                                                                                                                                                                                                                                                                                                                                                                                                                                                                                                                                                                                                                                                                                                                                                                                                                                                                                                                                                                                                                                                                                                                                                                                                                                                                                                                                                                                                                                                                                                                                                                                                                                                                                                                                                                                                                                                                                                                                                                                                                                                                                                                                                                                                                                                                                                                                                                                                                                                                                                                                                                                                                                                                                                                                                                                                                                                                                                                                                                                                                                                                                                                                                                                                                                                                                                                                                                                                                                                                                                                                                                                                                                                                                                                                                                                                                                                                                                                                                                                                                                                                                                                                                                                                                                                                                                                                                                                                                                                                                                                                                                                                                                                                                                                                                                                                                                                                                                                                                                                                                                                                                                                                                                                                                                                                                                                                                                                                                                                                                                                                                                                                                                                                                                                                                                                                                                                                                                                                                                                                                                                                                                                                                                                                                                                                                                                                                                                                                                                                                                                                                                                                                                                                                                                                                                                                                                                                                                                                                                                                                                                                                                                                                                                                                                                                                                                                                                                                       paragraphs\n",
              "0  6aesops  [Grasshopper.PDF, The Ant and the Grasshopper    , In a field one summer's day a Grasshopper was hopping about, chirping and singing to its heart's content.  An Ant passed by, bearing along with great toil an ear of corn he was taking to the nest.  “Why not come and chat with me,” said the Grasshopper, “instead of toiling and moiling in that way?”  “I am helping to lay up food for the winter,” said the Ant, “and recommend you to do the same.”  “Why bother about winter?” said the Grasshopper; “We have got plenty of food at present.”  But the Ant went on its way and continued its toil.  When the winter came the Grasshopper had no food and found itself dying of hunger, while it saw the ants distributing every day corn and grain from the stores they had collected in the summer.  Then the Grasshopper knew:   , It is best to prepare for the days of necessity.   , The Crab and Its Mother      , A CRAB said to her son, \"Why do you walk so one-sided, my child? It is far more becoming to go straight forward.\"  The young Crab replied:  \"Quite true, dear Mother; and if you will show me the straight way, I will promise to walk in it.\"  The Mother tried in vain, and submitted without remonstrance to the reproof of her child.   , Example is more powerful than precept.  , The Fox and the Grapes      , One hot summer's day a Fox was strolling through an orchard till he came to a bunch of Grapes just ripening on a vine which had been trained over a lofty branch.  \"Just the thing to quench my thirst,\" quoth he.  Drawing back a few paces, he took a run and a jump, and just missed the bunch.  Turning round again with a One, Two, Three, he jumped up, but with no greater success.  , Again and again he tried after the tempting morsel, but at last had to give it up, and walked away with his nose in the air, saying: \"I am sure they are sour.\"    , It is easy to despise what you cannot get. , The Hare and the Tortoise      , A HARE one day ridiculed the short feet and slow pace of the Tortoise, who replied, laughing:  \"Though you be swift as the wind, I will beat you in a race.\"  The Hare, believing her assertion to be simply impossible, assented to the proposal; and they agreed that the Fox should choose the course and fix the goal.  On the day appointed for the race the two started together.  The Tortoise never for a moment stopped, but went on with a slow but steady pace straight to the end of the course. The Hare, lying down by the wayside, fell fast asleep.  At last waking up, and moving as fast as he could, he saw the Tortoise had reached the goal, and was comfortably dozing after her fatigue.   , Slow but steady wins the race.  , The Jay and the Peacock      , A Jay venturing into a yard where Peacocks used to walk, found there a number of feathers which had fallen from the Peacocks when they were moulting.  He tied them all to his tail and strutted down towards the Peacocks.  When he came near them they soon discovered the cheat, and striding up to him pecked at him and plucked away his borrowed plumes.  So the Jay could do no better than go back to the other Jays, who had watched his behaviour from a distance; but they were equally annoyed with him, and told him:   \"It is not only fine feathers that make fine birds.\"  , The Lion and the Mouse    , Once when a Lion was asleep a little Mouse began running up and down upon him; this soon wakened the Lion, who placed his huge paw upon him, and opened his big jaws to swallow him.  \"Pardon, O King,\" cried the little Mouse: \"forgive me this time, I shall never forget it: who knows but what I may be able to do you a turn some of these days?\"  The Lion was so tickled at the idea of the Mouse being able to help him, that he lifted up his paw and let him go.  Some time after the Lion was caught in a trap, and the hunters who desired to carry him alive to the King, tied him to a tree while they went in search of a wagon to carry him on.  Just then the little Mouse happened to pass by, and seeing the sad plight in which the Lion was, went up to him and soon gnawed away the ropes that bound the King of the Beasts.  \"Was I not right?\" said the little Mouse.   , Little friends may prove great friends.  , The Milkmaid and Her Pail    , Patty the Milkmaid was going to market carrying her milk in a Pail on her head.  As she went along she began calculating what she would do with the money she would get for the milk.  \"I'll buy some fowls from Farmer Brown,\" said she, \"and they will lay eggs each morning, which I will sell to the parson's wife.  With the money that I get from the sale of these eggs I'll buy myself a new dimity frock and a chip hat; and when I go to market, won't all the young men come up and speak to me!  Polly Shaw will be that jealous; but I don't care.  I shall just look at her and toss my head like this.  As she spoke she tossed her head back, the Pail fell off it, and all the milk was spilt.  So she had to go home and tell her mother what had occurred.  \"Ah, my child,\" said the mother,   \"Do not count your chickens before they are hatched.\"  , The Monkey and the Dolphin     , A SAILOR, bound on a long voyage, took with him a Monkey to amuse him while on shipboard.  As he sailed off the coast of , Greece, a violent tempest arose in which the ship was wrecked and he, his Monkey, and all the crew were obliged to swim for their lives.  A Dolphin saw the Monkey contending with the waves, and supposing him to be a man (whom he is always said to befriend), came and placed himself under him, to convey him on his back in safety to the shore.  When the Dolphin arrived with his burden in sight of land not far from Athens, he asked the Monkey if he were an Athenian.  The latter replied that he was, and that he was descended from one of the most noble families in that city.  The , Dolphin then inquired if he knew the Piraeus (the famous harbour of Athens).  Supposing that a man was meant, the Monkey answered that he knew him very well and that he was an intimate friend.  The Dolphin, indignant at these falsehoods, dipped the , Monkey under the water and drowned him.  , Those who pretend to be what they are not, sooner or later, find themselves in deep water. , The Stag at the Pool      , A Stag overpowered by heat came to a spring to drink.  Seeing his own shadow reflected in the water, he greatly admired the size and variety of his horns, but felt angry with himself for having such slender and weak feet.  While he was thus contemplating himself, a Lion appeared at the pool and crouched to spring upon him.  The Stag immediately took to flight, and exerting his utmost speed, as long as the plain was smooth and open kept himself easily at a safe distance from the Lion.  But entering a wood he became entangled by his horns, and the Lion quickly came up to him and caught him.  When too late, he thus reproached himself:  \"Woe is me! How I have deceived myself! These feet which would have saved me I despised, and I gloried in these antlers which have proved my destruction.\"   , What is most truly valuable is often underrated.  , The Wolf and the Crane     , A Wolf had been gorging on an animal he had killed, when suddenly a small bone in the meat stuck in his throat and he could not swallow it.  He soon felt terrible pain in his throat, and ran up and down groaning and groaning and seeking for something to relieve the pain.  He tried to induce every one he met to remove the bone.  \"I would give anything,\" said he, \"if you would take it out.\"  At last the Crane agreed to try, and told the Wolf to lie on his side and open his jaws as wide as he could.  Then the Crane put its long neck down the Wolf's throat, and with its beak loosened the bone, till at last it got it out.  \"Will you kindly give me the reward you promised?\" said the , Crane.  , The Wolf grinned and showed his teeth and said: \"Be content. You have put your head inside a Wolf's mouth and taken it out again in safety; that ought to be reward enough for you.\"   , Gratitude and greed go not together.  , The Wolf in Sheep's Clothing    , A Wolf found great difficulty in getting at the sheep owing to the vigilance of the shepherd and his dogs.  But one day it found the skin of a sheep that had been flayed and thrown aside, so it put it on over its own pelt and strolled down among the sheep. , The Lamb that belonged to the sheep, whose skin the Wolf was wearing, began to follow the Wolf in the Sheep's clothing; so, leading the Lamb a little apart, he soon made a meal off her, and for some time he succeeded in deceiving the sheep, and enjoying hearty meals.   , Appearances are deceptive.]"
            ]
          },
          "metadata": {
            "tags": []
          },
          "execution_count": 19
        }
      ]
    },
    {
      "cell_type": "code",
      "metadata": {
        "colab": {
          "base_uri": "https://localhost:8080/",
          "height": 749
        },
        "id": "NZ9ui0acMsx1",
        "outputId": "d42f286f-f941-43e9-bec0-c9aaa1cd6064"
      },
      "source": [
        "pd.set_option('display.max_colwidth', -1)\n",
        "df.head()"
      ],
      "execution_count": null,
      "outputs": [
        {
          "output_type": "execute_result",
          "data": {
            "text/html": [
              "<div>\n",
              "<style scoped>\n",
              "    .dataframe tbody tr th:only-of-type {\n",
              "        vertical-align: middle;\n",
              "    }\n",
              "\n",
              "    .dataframe tbody tr th {\n",
              "        vertical-align: top;\n",
              "    }\n",
              "\n",
              "    .dataframe thead th {\n",
              "        text-align: right;\n",
              "    }\n",
              "</style>\n",
              "<table border=\"1\" class=\"dataframe\">\n",
              "  <thead>\n",
              "    <tr style=\"text-align: right;\">\n",
              "      <th></th>\n",
              "      <th>title</th>\n",
              "      <th>paragraphs</th>\n",
              "    </tr>\n",
              "  </thead>\n",
              "  <tbody>\n",
              "    <tr>\n",
              "      <th>0</th>\n",
              "      <td>6aesops</td>\n",
              "      <td>[Grasshopper.PDF, The Ant and the Grasshopper    , In a field one summer's day a Grasshopper was hopping about, chirping and singing to its heart's content.  An Ant passed by, bearing along with great toil an ear of corn he was taking to the nest.  “Why not come and chat with me,” said the Grasshopper, “instead of toiling and moiling in that way?”  “I am helping to lay up food for the winter,” said the Ant, “and recommend you to do the same.”  “Why bother about winter?” said the Grasshopper; “We have got plenty of food at present.”  But the Ant went on its way and continued its toil.  When the winter came the Grasshopper had no food and found itself dying of hunger, while it saw the ants distributing every day corn and grain from the stores they had collected in the summer.  Then the Grasshopper knew:   , It is best to prepare for the days of necessity.   , The Crab and Its Mother      , A CRAB said to her son, \"Why do you walk so one-sided, my child? It is far more becoming to go straight forward.\"  The young Crab replied:  \"Quite true, dear Mother; and if you will show me the straight way, I will promise to walk in it.\"  The Mother tried in vain, and submitted without remonstrance to the reproof of her child.   , Example is more powerful than precept.  , The Fox and the Grapes      , One hot summer's day a Fox was strolling through an orchard till he came to a bunch of Grapes just ripening on a vine which had been trained over a lofty branch.  \"Just the thing to quench my thirst,\" quoth he.  Drawing back a few paces, he took a run and a jump, and just missed the bunch.  Turning round again with a One, Two, Three, he jumped up, but with no greater success.  , Again and again he tried after the tempting morsel, but at last had to give it up, and walked away with his nose in the air, saying: \"I am sure they are sour.\"    , It is easy to despise what you cannot get. , The Hare and the Tortoise      , A HARE one day ridiculed the short feet and slow pace of the Tortoise, who replied, laughing:  \"Though you be swift as the wind, I will beat you in a race.\"  The Hare, believing her assertion to be simply impossible, assented to the proposal; and they agreed that the Fox should choose the course and fix the goal.  On the day appointed for the race the two started together.  The Tortoise never for a moment stopped, but went on with a slow but steady pace straight to the end of the course. The Hare, lying down by the wayside, fell fast asleep.  At last waking up, and moving as fast as he could, he saw the Tortoise had reached the goal, and was comfortably dozing after her fatigue.   , Slow but steady wins the race.  , The Jay and the Peacock      , A Jay venturing into a yard where Peacocks used to walk, found there a number of feathers which had fallen from the Peacocks when they were moulting.  He tied them all to his tail and strutted down towards the Peacocks.  When he came near them they soon discovered the cheat, and striding up to him pecked at him and plucked away his borrowed plumes.  So the Jay could do no better than go back to the other Jays, who had watched his behaviour from a distance; but they were equally annoyed with him, and told him:   \"It is not only fine feathers that make fine birds.\"  , The Lion and the Mouse    , Once when a Lion was asleep a little Mouse began running up and down upon him; this soon wakened the Lion, who placed his huge paw upon him, and opened his big jaws to swallow him.  \"Pardon, O King,\" cried the little Mouse: \"forgive me this time, I shall never forget it: who knows but what I may be able to do you a turn some of these days?\"  The Lion was so tickled at the idea of the Mouse being able to help him, that he lifted up his paw and let him go.  Some time after the Lion was caught in a trap, and the hunters who desired to carry him alive to the King, tied him to a tree while they went in search of a wagon to carry him on.  Just then the little Mouse happened to pass by, and seeing the sad plight in which the Lion was, went up to him and soon gnawed away the ropes that bound the King of the Beasts.  \"Was I not right?\" said the little Mouse.   , Little friends may prove great friends.  , The Milkmaid and Her Pail    , Patty the Milkmaid was going to market carrying her milk in a Pail on her head.  As she went along she began calculating what she would do with the money she would get for the milk.  \"I'll buy some fowls from Farmer Brown,\" said she, \"and they will lay eggs each morning, which I will sell to the parson's wife.  With the money that I get from the sale of these eggs I'll buy myself a new dimity frock and a chip hat; and when I go to market, won't all the young men come up and speak to me!  Polly Shaw will be that jealous; but I don't care.  I shall just look at her and toss my head like this.  As she spoke she tossed her head back, the Pail fell off it, and all the milk was spilt.  So she had to go home and tell her mother what had occurred.  \"Ah, my child,\" said the mother,   \"Do not count your chickens before they are hatched.\"  , The Monkey and the Dolphin     , A SAILOR, bound on a long voyage, took with him a Monkey to amuse him while on shipboard.  As he sailed off the coast of , Greece, a violent tempest arose in which the ship was wrecked and he, his Monkey, and all the crew were obliged to swim for their lives.  A Dolphin saw the Monkey contending with the waves, and supposing him to be a man (whom he is always said to befriend), came and placed himself under him, to convey him on his back in safety to the shore.  When the Dolphin arrived with his burden in sight of land not far from Athens, he asked the Monkey if he were an Athenian.  The latter replied that he was, and that he was descended from one of the most noble families in that city.  The , Dolphin then inquired if he knew the Piraeus (the famous harbour of Athens).  Supposing that a man was meant, the Monkey answered that he knew him very well and that he was an intimate friend.  The Dolphin, indignant at these falsehoods, dipped the , Monkey under the water and drowned him.  , Those who pretend to be what they are not, sooner or later, find themselves in deep water. , The Stag at the Pool      , A Stag overpowered by heat came to a spring to drink.  Seeing his own shadow reflected in the water, he greatly admired the size and variety of his horns, but felt angry with himself for having such slender and weak feet.  While he was thus contemplating himself, a Lion appeared at the pool and crouched to spring upon him.  The Stag immediately took to flight, and exerting his utmost speed, as long as the plain was smooth and open kept himself easily at a safe distance from the Lion.  But entering a wood he became entangled by his horns, and the Lion quickly came up to him and caught him.  When too late, he thus reproached himself:  \"Woe is me! How I have deceived myself! These feet which would have saved me I despised, and I gloried in these antlers which have proved my destruction.\"   , What is most truly valuable is often underrated.  , The Wolf and the Crane     , A Wolf had been gorging on an animal he had killed, when suddenly a small bone in the meat stuck in his throat and he could not swallow it.  He soon felt terrible pain in his throat, and ran up and down groaning and groaning and seeking for something to relieve the pain.  He tried to induce every one he met to remove the bone.  \"I would give anything,\" said he, \"if you would take it out.\"  At last the Crane agreed to try, and told the Wolf to lie on his side and open his jaws as wide as he could.  Then the Crane put its long neck down the Wolf's throat, and with its beak loosened the bone, till at last it got it out.  \"Will you kindly give me the reward you promised?\" said the , Crane.  , The Wolf grinned and showed his teeth and said: \"Be content. You have put your head inside a Wolf's mouth and taken it out again in safety; that ought to be reward enough for you.\"   , Gratitude and greed go not together.  , The Wolf in Sheep's Clothing    , A Wolf found great difficulty in getting at the sheep owing to the vigilance of the shepherd and his dogs.  But one day it found the skin of a sheep that had been flayed and thrown aside, so it put it on over its own pelt and strolled down among the sheep. , The Lamb that belonged to the sheep, whose skin the Wolf was wearing, began to follow the Wolf in the Sheep's clothing; so, leading the Lamb a little apart, he soon made a meal off her, and for some time he succeeded in deceiving the sheep, and enjoying hearty meals.   , Appearances are deceptive.]</td>\n",
              "    </tr>\n",
              "  </tbody>\n",
              "</table>\n",
              "</div>"
            ],
            "text/plain": [
              "     title                                                                                                                                                                                                                                                                                                                                                                                                                                                                                                                                                                                                                                                                                                                                                                                                                                                                                                                                                                                                                                                                                                                                                                                                                                                                                                                                                                                                                                                                                                                                                                                                                                                                                                                                                                                                                                                                                                                                                                                                                                                                                                                                                                                                                                                                                                                                                                                                                                                                                                                                                                                                                                                                                                                                                                                                                                                                                                                                                                                                                                                                                                                                                                                                                                                                                                                                                                                                                                                                                                                                                                                                                                                                                                                                                                                                                                                                                                                                                                                                                                                                                                                                                                                                                                                                                                                                                                                                                                                                                                                                                                                                                                                                                                                                                                                                                                                                                                                                                                                                                                                                                                                                                                                                                                                                                                                                                                                                                                                                                                                                                                                                                                                                                                                                                                                                                                                                                                                                                                                                                                                                                                                                                                                                                                                                                                                                                                                                                                                                                                                                                                                                                                                                                                                                                                                                                                                                                                                                                                                                                                                                                                                                                                                                                                                                                                                                                                                                                                                                                                                                                                                                                                                                                                                                                                                                                                                                                                                                                                                                                                                                                                                                                                                                                                                                                                                                                                                                                                                                                                                                                                                                                                                                                                                                                                                                                                                                                                                                                                       paragraphs\n",
              "0  6aesops  [Grasshopper.PDF, The Ant and the Grasshopper    , In a field one summer's day a Grasshopper was hopping about, chirping and singing to its heart's content.  An Ant passed by, bearing along with great toil an ear of corn he was taking to the nest.  “Why not come and chat with me,” said the Grasshopper, “instead of toiling and moiling in that way?”  “I am helping to lay up food for the winter,” said the Ant, “and recommend you to do the same.”  “Why bother about winter?” said the Grasshopper; “We have got plenty of food at present.”  But the Ant went on its way and continued its toil.  When the winter came the Grasshopper had no food and found itself dying of hunger, while it saw the ants distributing every day corn and grain from the stores they had collected in the summer.  Then the Grasshopper knew:   , It is best to prepare for the days of necessity.   , The Crab and Its Mother      , A CRAB said to her son, \"Why do you walk so one-sided, my child? It is far more becoming to go straight forward.\"  The young Crab replied:  \"Quite true, dear Mother; and if you will show me the straight way, I will promise to walk in it.\"  The Mother tried in vain, and submitted without remonstrance to the reproof of her child.   , Example is more powerful than precept.  , The Fox and the Grapes      , One hot summer's day a Fox was strolling through an orchard till he came to a bunch of Grapes just ripening on a vine which had been trained over a lofty branch.  \"Just the thing to quench my thirst,\" quoth he.  Drawing back a few paces, he took a run and a jump, and just missed the bunch.  Turning round again with a One, Two, Three, he jumped up, but with no greater success.  , Again and again he tried after the tempting morsel, but at last had to give it up, and walked away with his nose in the air, saying: \"I am sure they are sour.\"    , It is easy to despise what you cannot get. , The Hare and the Tortoise      , A HARE one day ridiculed the short feet and slow pace of the Tortoise, who replied, laughing:  \"Though you be swift as the wind, I will beat you in a race.\"  The Hare, believing her assertion to be simply impossible, assented to the proposal; and they agreed that the Fox should choose the course and fix the goal.  On the day appointed for the race the two started together.  The Tortoise never for a moment stopped, but went on with a slow but steady pace straight to the end of the course. The Hare, lying down by the wayside, fell fast asleep.  At last waking up, and moving as fast as he could, he saw the Tortoise had reached the goal, and was comfortably dozing after her fatigue.   , Slow but steady wins the race.  , The Jay and the Peacock      , A Jay venturing into a yard where Peacocks used to walk, found there a number of feathers which had fallen from the Peacocks when they were moulting.  He tied them all to his tail and strutted down towards the Peacocks.  When he came near them they soon discovered the cheat, and striding up to him pecked at him and plucked away his borrowed plumes.  So the Jay could do no better than go back to the other Jays, who had watched his behaviour from a distance; but they were equally annoyed with him, and told him:   \"It is not only fine feathers that make fine birds.\"  , The Lion and the Mouse    , Once when a Lion was asleep a little Mouse began running up and down upon him; this soon wakened the Lion, who placed his huge paw upon him, and opened his big jaws to swallow him.  \"Pardon, O King,\" cried the little Mouse: \"forgive me this time, I shall never forget it: who knows but what I may be able to do you a turn some of these days?\"  The Lion was so tickled at the idea of the Mouse being able to help him, that he lifted up his paw and let him go.  Some time after the Lion was caught in a trap, and the hunters who desired to carry him alive to the King, tied him to a tree while they went in search of a wagon to carry him on.  Just then the little Mouse happened to pass by, and seeing the sad plight in which the Lion was, went up to him and soon gnawed away the ropes that bound the King of the Beasts.  \"Was I not right?\" said the little Mouse.   , Little friends may prove great friends.  , The Milkmaid and Her Pail    , Patty the Milkmaid was going to market carrying her milk in a Pail on her head.  As she went along she began calculating what she would do with the money she would get for the milk.  \"I'll buy some fowls from Farmer Brown,\" said she, \"and they will lay eggs each morning, which I will sell to the parson's wife.  With the money that I get from the sale of these eggs I'll buy myself a new dimity frock and a chip hat; and when I go to market, won't all the young men come up and speak to me!  Polly Shaw will be that jealous; but I don't care.  I shall just look at her and toss my head like this.  As she spoke she tossed her head back, the Pail fell off it, and all the milk was spilt.  So she had to go home and tell her mother what had occurred.  \"Ah, my child,\" said the mother,   \"Do not count your chickens before they are hatched.\"  , The Monkey and the Dolphin     , A SAILOR, bound on a long voyage, took with him a Monkey to amuse him while on shipboard.  As he sailed off the coast of , Greece, a violent tempest arose in which the ship was wrecked and he, his Monkey, and all the crew were obliged to swim for their lives.  A Dolphin saw the Monkey contending with the waves, and supposing him to be a man (whom he is always said to befriend), came and placed himself under him, to convey him on his back in safety to the shore.  When the Dolphin arrived with his burden in sight of land not far from Athens, he asked the Monkey if he were an Athenian.  The latter replied that he was, and that he was descended from one of the most noble families in that city.  The , Dolphin then inquired if he knew the Piraeus (the famous harbour of Athens).  Supposing that a man was meant, the Monkey answered that he knew him very well and that he was an intimate friend.  The Dolphin, indignant at these falsehoods, dipped the , Monkey under the water and drowned him.  , Those who pretend to be what they are not, sooner or later, find themselves in deep water. , The Stag at the Pool      , A Stag overpowered by heat came to a spring to drink.  Seeing his own shadow reflected in the water, he greatly admired the size and variety of his horns, but felt angry with himself for having such slender and weak feet.  While he was thus contemplating himself, a Lion appeared at the pool and crouched to spring upon him.  The Stag immediately took to flight, and exerting his utmost speed, as long as the plain was smooth and open kept himself easily at a safe distance from the Lion.  But entering a wood he became entangled by his horns, and the Lion quickly came up to him and caught him.  When too late, he thus reproached himself:  \"Woe is me! How I have deceived myself! These feet which would have saved me I despised, and I gloried in these antlers which have proved my destruction.\"   , What is most truly valuable is often underrated.  , The Wolf and the Crane     , A Wolf had been gorging on an animal he had killed, when suddenly a small bone in the meat stuck in his throat and he could not swallow it.  He soon felt terrible pain in his throat, and ran up and down groaning and groaning and seeking for something to relieve the pain.  He tried to induce every one he met to remove the bone.  \"I would give anything,\" said he, \"if you would take it out.\"  At last the Crane agreed to try, and told the Wolf to lie on his side and open his jaws as wide as he could.  Then the Crane put its long neck down the Wolf's throat, and with its beak loosened the bone, till at last it got it out.  \"Will you kindly give me the reward you promised?\" said the , Crane.  , The Wolf grinned and showed his teeth and said: \"Be content. You have put your head inside a Wolf's mouth and taken it out again in safety; that ought to be reward enough for you.\"   , Gratitude and greed go not together.  , The Wolf in Sheep's Clothing    , A Wolf found great difficulty in getting at the sheep owing to the vigilance of the shepherd and his dogs.  But one day it found the skin of a sheep that had been flayed and thrown aside, so it put it on over its own pelt and strolled down among the sheep. , The Lamb that belonged to the sheep, whose skin the Wolf was wearing, began to follow the Wolf in the Sheep's clothing; so, leading the Lamb a little apart, he soon made a meal off her, and for some time he succeeded in deceiving the sheep, and enjoying hearty meals.   , Appearances are deceptive.]"
            ]
          },
          "metadata": {
            "tags": []
          },
          "execution_count": 20
        }
      ]
    },
    {
      "cell_type": "code",
      "metadata": {
        "colab": {
          "base_uri": "https://localhost:8080/"
        },
        "id": "H25HzvAZM8lU",
        "outputId": "ae705a0e-59d2-4e5a-97c9-0450d38a3fff"
      },
      "source": [
        "cdqa_pipeline = QAPipeline(reader='./models/bert_qa.joblib', max_df=1.0)\n",
        "cdqa_pipeline.fit_retriever(df=df)\n"
      ],
      "execution_count": null,
      "outputs": [
        {
          "output_type": "execute_result",
          "data": {
            "text/plain": [
              "QAPipeline(reader=BertQA(adam_epsilon=1e-08, bert_model='bert-base-uncased',\n",
              "                         do_lower_case=True, fp16=False,\n",
              "                         gradient_accumulation_steps=1, learning_rate=5e-05,\n",
              "                         local_rank=-1, loss_scale=0, max_answer_length=30,\n",
              "                         n_best_size=20, no_cuda=False,\n",
              "                         null_score_diff_threshold=0.0, num_train_epochs=3.0,\n",
              "                         output_dir=None, predict_batch_size=8, seed=42,\n",
              "                         server_ip='', server_po..._size=8,\n",
              "                         verbose_logging=False, version_2_with_negative=False,\n",
              "                         warmup_proportion=0.1, warmup_steps=0),\n",
              "           retrieve_by_doc=False,\n",
              "           retriever=BM25Retriever(b=0.75, floor=None, k1=2.0, lowercase=True,\n",
              "                                   max_df=1.0, min_df=2, ngram_range=(1, 2),\n",
              "                                   preprocessor=None, stop_words='english',\n",
              "                                   token_pattern='(?u)\\\\b\\\\w\\\\w+\\\\b',\n",
              "                                   tokenizer=None, top_n=20, verbose=False,\n",
              "                                   vocabulary=None))"
            ]
          },
          "metadata": {
            "tags": []
          },
          "execution_count": 21
        }
      ]
    },
    {
      "cell_type": "code",
      "metadata": {
        "id": "rCQZKavcNdS-"
      },
      "source": [
        "query = 'what was the grasshopper doing on a summer'\n",
        "pred = cdqa_pipeline.predict(query)"
      ],
      "execution_count": null,
      "outputs": []
    },
    {
      "cell_type": "code",
      "metadata": {
        "colab": {
          "base_uri": "https://localhost:8080/"
        },
        "id": "3IrG5WThNtS8",
        "outputId": "bcd7f987-d373-42dc-b44f-febf4bdff6d1"
      },
      "source": [
        "pred"
      ],
      "execution_count": null,
      "outputs": [
        {
          "output_type": "execute_result",
          "data": {
            "text/plain": [
              "('hopping about',\n",
              " '6aesops',\n",
              " \"In a field one summer's day a Grasshopper was hopping about, chirping and singing to its heart's content.  An Ant passed by, bearing along with great toil an ear of corn he was taking to the nest.  “Why not come and chat with me,” said the Grasshopper, “instead of toiling and moiling in that way?”  “I am helping to lay up food for the winter,” said the Ant, “and recommend you to do the same.”  “Why bother about winter?” said the Grasshopper; “We have got plenty of food at present.”  But the Ant went on its way and continued its toil.  When the winter came the Grasshopper had no food and found itself dying of hunger, while it saw the ants distributing every day corn and grain from the stores they had collected in the summer.  Then the Grasshopper knew:   \",\n",
              " 10.239579330597664)"
            ]
          },
          "metadata": {
            "tags": []
          },
          "execution_count": 26
        }
      ]
    },
    {
      "cell_type": "code",
      "metadata": {
        "id": "cXrDICmjN-XT"
      },
      "source": [
        "query = 'what was the ant doing on a summer'\n",
        "pred = cdqa_pipeline.predict(query)"
      ],
      "execution_count": null,
      "outputs": []
    },
    {
      "cell_type": "code",
      "metadata": {
        "colab": {
          "base_uri": "https://localhost:8080/"
        },
        "id": "QdIaKt_POTN7",
        "outputId": "8235f2cd-d73c-44e3-d244-a91687acf625"
      },
      "source": [
        "pred"
      ],
      "execution_count": null,
      "outputs": [
        {
          "output_type": "execute_result",
          "data": {
            "text/plain": [
              "('the Ant went on its way and continued its toil',\n",
              " '6aesops',\n",
              " \"In a field one summer's day a Grasshopper was hopping about, chirping and singing to its heart's content.  An Ant passed by, bearing along with great toil an ear of corn he was taking to the nest.  “Why not come and chat with me,” said the Grasshopper, “instead of toiling and moiling in that way?”  “I am helping to lay up food for the winter,” said the Ant, “and recommend you to do the same.”  “Why bother about winter?” said the Grasshopper; “We have got plenty of food at present.”  But the Ant went on its way and continued its toil.  When the winter came the Grasshopper had no food and found itself dying of hunger, while it saw the ants distributing every day corn and grain from the stores they had collected in the summer.  Then the Grasshopper knew:   \",\n",
              " 7.140288667699331)"
            ]
          },
          "metadata": {
            "tags": []
          },
          "execution_count": 28
        }
      ]
    },
    {
      "cell_type": "code",
      "metadata": {
        "id": "73Ca35fVObmb"
      },
      "source": [
        "query = 'what did young crab replied'\n",
        "pred = cdqa_pipeline.predict(query)"
      ],
      "execution_count": null,
      "outputs": []
    },
    {
      "cell_type": "code",
      "metadata": {
        "colab": {
          "base_uri": "https://localhost:8080/"
        },
        "id": "CRis6UolRn0g",
        "outputId": "f045ad20-15bd-48af-c00b-62306859c878"
      },
      "source": [
        "pred"
      ],
      "execution_count": null,
      "outputs": [
        {
          "output_type": "execute_result",
          "data": {
            "text/plain": [
              "('\"Quite true, dear Mother; and if you will show me the straight way, I will promise to walk in it.\"',\n",
              " '6aesops',\n",
              " 'A CRAB said to her son, \"Why do you walk so one-sided, my child? It is far more becoming to go straight forward.\"  The young Crab replied:  \"Quite true, dear Mother; and if you will show me the straight way, I will promise to walk in it.\"  The Mother tried in vain, and submitted without remonstrance to the reproof of her child.   ',\n",
              " 5.618333258840607)"
            ]
          },
          "metadata": {
            "tags": []
          },
          "execution_count": 32
        }
      ]
    },
    {
      "cell_type": "code",
      "metadata": {
        "id": "q6RGdGoMRvtv"
      },
      "source": [
        "query = 'what was the fox doing'\n",
        "pred = cdqa_pipeline.predict(query, 3)"
      ],
      "execution_count": null,
      "outputs": []
    },
    {
      "cell_type": "code",
      "metadata": {
        "colab": {
          "base_uri": "https://localhost:8080/"
        },
        "id": "sGFg9rqQSVVI",
        "outputId": "9ee2cac6-de6e-4701-f25a-babf04ef6c6d"
      },
      "source": [
        "pred"
      ],
      "execution_count": null,
      "outputs": [
        {
          "output_type": "execute_result",
          "data": {
            "text/plain": [
              "[('fix the goal',\n",
              "  '6aesops',\n",
              "  'A HARE one day ridiculed the short feet and slow pace of the Tortoise, who replied, laughing:  \"Though you be swift as the wind, I will beat you in a race.\"  The Hare, believing her assertion to be simply impossible, assented to the proposal; and they agreed that the Fox should choose the course and fix the goal.  On the day appointed for the race the two started together.  The Tortoise never for a moment stopped, but went on with a slow but steady pace straight to the end of the course. The Hare, lying down by the wayside, fell fast asleep.  At last waking up, and moving as fast as he could, he saw the Tortoise had reached the goal, and was comfortably dozing after her fatigue.   ',\n",
              "  5.851025395046139),\n",
              " ('strolling through an orchard',\n",
              "  '6aesops',\n",
              "  'One hot summer\\'s day a Fox was strolling through an orchard till he came to a bunch of Grapes just ripening on a vine which had been trained over a lofty branch.  \"Just the thing to quench my thirst,\" quoth he.  Drawing back a few paces, he took a run and a jump, and just missed the bunch.  Turning round again with a One, Two, Three, he jumped up, but with no greater success.  ',\n",
              "  5.586329928194975),\n",
              " ('pecked at him and plucked away his borrowed plumes',\n",
              "  '6aesops',\n",
              "  'A Jay venturing into a yard where Peacocks used to walk, found there a number of feathers which had fallen from the Peacocks when they were moulting.  He tied them all to his tail and strutted down towards the Peacocks.  When he came near them they soon discovered the cheat, and striding up to him pecked at him and plucked away his borrowed plumes.  So the Jay could do no better than go back to the other Jays, who had watched his behaviour from a distance; but they were equally annoyed with him, and told him:   \"It is not only fine feathers that make fine birds.\"  ',\n",
              "  3.357505679130554)]"
            ]
          },
          "metadata": {
            "tags": []
          },
          "execution_count": 34
        }
      ]
    },
    {
      "cell_type": "code",
      "metadata": {
        "id": "5iQnPf6kSd7-"
      },
      "source": [
        "query = 'what is the moral of the story the jay and the peacock'\n",
        "pred = cdqa_pipeline.predict(query)"
      ],
      "execution_count": null,
      "outputs": []
    },
    {
      "cell_type": "code",
      "metadata": {
        "colab": {
          "base_uri": "https://localhost:8080/"
        },
        "id": "tLR7czSjTA-9",
        "outputId": "a169baa0-d0d0-4c2a-e1d4-909f716b48f7"
      },
      "source": [
        "pred"
      ],
      "execution_count": null,
      "outputs": [
        {
          "output_type": "execute_result",
          "data": {
            "text/plain": [
              "('\"It is not only fine feathers that make fine birds.\"',\n",
              " '6aesops',\n",
              " 'A Jay venturing into a yard where Peacocks used to walk, found there a number of feathers which had fallen from the Peacocks when they were moulting.  He tied them all to his tail and strutted down towards the Peacocks.  When he came near them they soon discovered the cheat, and striding up to him pecked at him and plucked away his borrowed plumes.  So the Jay could do no better than go back to the other Jays, who had watched his behaviour from a distance; but they were equally annoyed with him, and told him:   \"It is not only fine feathers that make fine birds.\"  ',\n",
              " 4.97112806193941)"
            ]
          },
          "metadata": {
            "tags": []
          },
          "execution_count": 38
        }
      ]
    },
    {
      "cell_type": "code",
      "metadata": {
        "id": "ZVebcvj0TI3S"
      },
      "source": [
        ""
      ],
      "execution_count": null,
      "outputs": []
    }
  ]
}